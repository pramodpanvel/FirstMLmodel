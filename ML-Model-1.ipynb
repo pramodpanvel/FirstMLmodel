{
 "cells": [
  {
   "cell_type": "code",
   "execution_count": null,
   "metadata": {},
   "outputs": [],
   "source": [
    "import matplotlib\n",
    "import matplotlib.pyplot as plt\n",
    "import numpy as np\n",
    "import pandas as pd\n",
    "import sklearn\n",
    "\n",
    "# load the data\n",
    "oecd_bli = pd.read_csv(\"oecd_bli_2015.csv\", thousands = ',')\n",
    "gdp_per_capita = pd.read_csv(\"gdp_per_capita.csv\", thousands =',', del, encoding = 'latinl', na_values = 'n/a' )\n",
    "\n",
    "# Prepare the data\n",
    "country_stats = prepare_country_stats(oecd_bli, gdp_per_capita)\n",
    "x = np.c_[country_stats[\"GDP per capita\"]]\n",
    "y = np.c_[country_stats[\"Life satisfaction\"]]\n",
    "\n",
    "# Visualize the data\n",
    "country_stats.plot(kind = 'scatter', x = \"GDP per capita\", y = 'Life satisfaction')\n",
    "plt.show()\n",
    "\n",
    "# Select a liner model\n",
    "lin_reg_model = sklearn.linear_model.LinearRegression()\n",
    "\n",
    "# Train the model\n",
    "lin_reg_model.fit(x,y)\n",
    "\n",
    "# Make predictions for Cyprus\n",
    "X_new = [[22587]]  # Cyprus' GDP per capita\n",
    "print(lin_reg_model.predict(X_new)) # Outputs [[5.96242338]]"
   ]
  }
 ],
 "metadata": {
  "kernelspec": {
   "display_name": "Python 3",
   "language": "python",
   "name": "python3"
  },
  "language_info": {
   "codemirror_mode": {
    "name": "ipython",
    "version": 3
   },
   "file_extension": ".py",
   "mimetype": "text/x-python",
   "name": "python",
   "nbconvert_exporter": "python",
   "pygments_lexer": "ipython3",
   "version": "3.7.4"
  }
 },
 "nbformat": 4,
 "nbformat_minor": 2
}
